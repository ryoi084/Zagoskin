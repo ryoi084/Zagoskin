{
 "cells": [
  {
   "cell_type": "markdown",
   "metadata": {},
   "source": [
    "*braket の定義*\n",
    "$$\\newcommand{\\ket}[1]{\\left|{#1}\\right\\rangle}$$\n",
    "$$\\newcommand{\\bra}[1]{\\left\\langle{#1}\\right|}$$\n",
    "$$\\newcommand{\\braket}[2]{\\left\\langle{#1}\\middle|{#2}\\right\\rangle}$$"
   ]
  },
  {
   "cell_type": "markdown",
   "metadata": {},
   "source": [
    "Chapter3<br>\n",
    "# 数々のGreen関数とその応用"
   ]
  },
  {
   "cell_type": "markdown",
   "metadata": {},
   "source": [
    "初めに紹介されているエッセイは<br>\n",
    "「無垢の歌」: 銅版画職人の*William Blake*が1789年に発行した詩集"
   ]
  },
  {
   "cell_type": "markdown",
   "metadata": {},
   "source": [
    "**「こだまする野辺」**(The Ecchoing Green)\n",
    "\n",
    "日が昇り<br>\n",
    "空が明るみ<br>\n",
    "鐘が鳴って<br>\n",
    "春を迎える<br>\n",
    "ひばりやつぐみ<br>\n",
    "藪の鳥たち<br>\n",
    "大声で歌うよ<br>\n",
    "鐘の音にあわせて<br>\n",
    "子どもらは戯る<br>\n",
    "こだまする野辺に<br>\n",
    "<br>\n",
    "\n",
    "オールド・ジョンは<br>\n",
    "愉快に笑う<br>\n",
    "樫の木陰で<br>\n",
    "仲間とともに<br>\n",
    "僕らを見ては<br>\n",
    "大人は言うんだ<br>\n",
    "楽しい眺めじゃ(Such, such were the joys)<br>\n",
    "子どもの頃に(When we all, girls and boys,)<br>\n",
    "わしらも遊んだ(In our youth time were seen)<br>\n",
    "こだまする野辺に(On the Ecchoing Green.)<br>\n",
    "\n",
    "子どもたちの<br>\n",
    "元気がなくなり<br>\n",
    "日が沈むと<br>\n",
    "遊びは終わり<br>\n",
    "母親を囲んで<br>\n",
    "子どもたちが<br>\n",
    "小鳥のように<br>\n",
    "集まってくると<br>\n",
    "遊びは終わって<br>\n",
    "野辺も暗い<br>\n",
    "  \n",
    "※「ウィリアム・ブレイクの詩とイラストの世界」(http://blake.hix05.com/index.html)"
   ]
  },
  {
   "cell_type": "markdown",
   "metadata": {},
   "source": [
    "# 1. 熱平衡Green関数の数学的な性質\n",
    "\n",
    "**目的**\n",
    "\n",
    "有限温度でGreen関数の技法を扱いたい $\\to$ **熱平衡Green関数**"
   ]
  },
  {
   "cell_type": "markdown",
   "metadata": {},
   "source": [
    "## 1.1 統計演算子（密度行列）とLiouville方程式\n",
    "\n",
    "系には**純粋状態**と**混合状態**という二つの状態がある\n",
    "- 純粋状態(pure state): エネルギーの確定した量子力学状態のみで構成されている\n",
    "- 混合状態(mixed state): 幾つかの量子状態が混合している\n",
    "\n",
    "例えば, 有限温度の場合はFermi粒子は分布を持つ"
   ]
  },
  {
   "cell_type": "markdown",
   "metadata": {},
   "source": [
    "混合状態はどのように扱えばよい??<br>\n",
    "$\\to$ **統計演算子**$\\hat{\\rho}$というものを用いる"
   ]
  },
  {
   "cell_type": "markdown",
   "metadata": {},
   "source": [
    "### 統計演算子\n",
    "\n",
    "- Notation の説明\n",
    "    - $m$: 量子状態のインデックス\n",
    "    - $\\ket{\\Phi_m}$: 量子状態が$m$である(固有)状態\n",
    "        - 各状態は規格化されている\n",
    "    - $W_m$: 考えている系が量子状態$m$となる確率\n",
    "        - 確率なので$\\sum_m W_m=1$が成立する\n",
    "    \n",
    "<br>\n",
    "- **統計演算子**:$\\hat{\\rho}$の定義\n",
    "    \\begin{align}\n",
    "        \\hat{\\rho} \\equiv \\sum_m \\ket{\\Phi_m}W_m\\bra{\\Phi_m} \\tag{3.1}\n",
    "    \\end{align}\n",
    "    $\\to$射影演算子に確率がかかっていると考えればよい\n",
    "\n",
    "\n",
    "- **密度行列**($\\left\\{\\rho_{nn'}\\right\\}$): 統計演算子を任意の規格直交系$\\left\\{\\ket{n}\\right\\}$で表したもの\n",
    "    \\begin{align}\n",
    "        \\hat{\\rho} &= \\sum_n \\sum_{n'} \\ket{n}\\rho_{n,n'}\\bra{n'} \\tag{3.4}\\\\\n",
    "        \\rho_{nn'} &= \\sum_m W_m \\braket{n}{\\Phi_m}\\braket{\\Phi_m}{n'} \\tag{3.5}\n",
    "    \\end{align}\n",
    "    \n",
    "    - 対角要素: 系が$n$である確率\n",
    "    - 非対角要素: 量子状態が$n'\\to n$と移る確率(*量子相関*という)"
   ]
  },
  {
   "cell_type": "markdown",
   "metadata": {},
   "source": [
    "### 統計演算子の性質\n",
    "\n",
    "- 混合状態での演算子$\\mathcal{O}$の平均値は次のように表せる\n",
    "    \\begin{align}\n",
    "        \\left<\\mathcal{O}\\right> &\\equiv \\sum_m W_m \\bra{\\Phi_m}\\mathcal{O}\\ket{\\Phi_m} \\\\\n",
    "        &= \\sum_m \\sum_{n_1} \\sum_{n_2} W_m \\braket{\\Phi_m}{n_1}\\bra{n_1}\\mathcal{O}\\ket{n_2}\\braket{n_2}{\\Phi_m} \\\\\n",
    "        &= \\sum_{n_1} \\sum_{n_2} \\bra{n_2}\\hat{\\rho}\\ket{n_1}\\bra{n_1}\\mathcal{O}\\ket{n_2} \\\\\n",
    "        &= \\rm{tr}(\\hat{\\rho}\\mathcal{O}) \\tag{3.3}\n",
    "    \\end{align}\n",
    "\n",
    "- 統計演算子の対角和には便利な性質がある\n",
    "    \\begin{align}\n",
    "        \\rm{tr}(\\hat{\\rho}) &= \\sum_{n} \\bra{n} \\left[\\sum_{m}\\ket{\\Phi_m}W_m\\bra{\\Phi_m}\\right]\\ket{n} = \\sum_{m} W_m\\braket{\\Phi_m}{\\Phi_m} = 1 \\tag{3.6} \\\\\n",
    "        \\rm{tr}(\\hat{\\rho}^2) &= \\sum_{n}\\bra{n}\\left[\\sum_{m}\\ket{\\Phi_m}W_m\\bra{\\Phi_m}\\right] \\left[\\sum_{l}\\ket{\\Phi_l}W_l\\bra{\\Phi_l}\\right] \\ket{n} \\\\\n",
    "        &=\\sum_{n}\\sum_{m}\\sum_{l}W_mW_l\\braket{n}{\\Phi_m}\\braket{\\Phi_m}{\\Phi_l}\\braket{\\Phi_l}{n}=\\sum_{m}\\sum_{l}W_mW_l\\left|\\braket{\\Phi_l}{\\Phi_m}\\right|^2\\\\\n",
    "        &< \\left( \\rm{tr}(\\hat{\\rho}) \\right)^2 \\tag{3.7}\n",
    "    \\end{align}"
   ]
  },
  {
   "cell_type": "markdown",
   "metadata": {},
   "source": [
    "### Liouville方程式\n",
    "\n",
    "- **Liouville方程式**: 分布関数の時間変化を記述する方程式 [(参考記事)](pdf/liouv.pdf)\n",
    "\n",
    "    古典力学のハミルトン形式においては, 次のような式となる\n",
    "    \\begin{align}\n",
    "        \\frac{\\partial f}{\\partial t} = \\sum_{i=1}^{N}\\left(\\frac{\\partial H}{\\partial\\mathbf{q}_i}\\frac{\\partial f}{\\partial\\mathbf{p}_i} - \\frac{\\partial H}{\\partial\\mathbf{p}_i}\\frac{\\partial f}{\\partial\\mathbf{q}_i}\\right)\n",
    "        = \\left\\{H,f\\right\\}\n",
    "    \\end{align}\n",
    "    \n",
    "\n",
    "- 統計演算子の時間依存\n",
    "    \n",
    "    量子状態の時間依存性は$\\ket{\\Phi(t)}=\\mathcal{U}(t)\\ket{\\Phi(0)}$と記述できるので\n",
    "    \\begin{align}\n",
    "        \\hat{\\rho}(t) = \\sum_m \\ket{\\Phi_m(t)} W_m \\bra{\\Phi_m(t)} = \\mathcal{U}(t) \\hat{\\rho}(0) \\mathcal{U}^\\dagger (t) \\tag{3.8}\n",
    "    \\end{align}\n",
    "    この両辺を$t$で微分すると\n",
    "    \\begin{align}\n",
    "        i\\frac{d\\hat{\\rho}}{dt} = \\left[H(t),\\hat{\\rho}\\right] \\tag{3.9}\n",
    "    \\end{align}\n",
    "    $\\to$ これが**Liouville方程式**と呼ばれている"
   ]
  },
  {
   "cell_type": "markdown",
   "metadata": {},
   "source": [
    "## 1.2 熱平衡Green関数の定義と数学的な性質\n",
    "\n",
    "式(2.4),(2.37),(2.38)によると, *causal*, *retarded*, *advanced* Green関数は次のように定義されている(符号はfermionかbosonか)\n",
    "\\begin{align}\n",
    "    G_{\\alpha\\beta}(\\mathbf{x}_1,t_1;\\mathbf{x}_2,t_2) &= -i\\left< \\mathcal{T} \\psi_{\\alpha}(\\mathbf{x}_1,t_1)\\psi_{\\beta}^{\\dagger}(\\mathbf{x}_2,t_2)\\right> \\tag{2.4} \\\\\n",
    "    G^{R}_{\\alpha\\beta}(\\mathbf{x}_1,t_1;\\mathbf{x}_2,t_2) &= -i\\left< \\psi_{\\alpha}(\\mathbf{x}_1,t_1)\\psi_{\\beta}^{\\dagger}(\\mathbf{x}_2,t_2)\\pm \\psi_{\\beta}^{\\dagger}(\\mathbf{x}_2,t_2)\\psi_{\\alpha}(\\mathbf{x}_1,t_1)\\right>\\theta(t_1-t_2) \\tag{2.37} \\\\\n",
    "    G^{A}_{\\alpha\\beta}(\\mathbf{x}_1,t_1;\\mathbf{x}_2,t_2) &= +i\\left< \\psi_{\\alpha}(\\mathbf{x}_1,t_1)\\psi_{\\beta}^{\\dagger}(\\mathbf{x}_2,t_2) \\pm \\psi_{\\beta}^{\\dagger}(\\mathbf{x}_2,t_2)\\psi_{\\alpha}(\\mathbf{x}_1,t_1)\\right>\\theta(t_2-t_1) \\tag{2.38} \\\\\n",
    "\\end{align}\n",
    "\n",
    "統計演算子を用いた場合の平均は(3.3)式を用いればよいので, 上の式は次のように変更を受ける\n",
    "\\begin{align}\n",
    "    G_{\\alpha\\beta}(x_1,t_1;x_2,t_2) &= -i\\rm{tr}\\left(\\hat{\\rho}\\mathcal{T}\\psi_{\\alpha}(x_1,t_1)\\psi_{\\beta}^{\\dagger}(x_2,t_2)\\right) \\tag{3.10}\\\\\n",
    "    G^{R}_{\\alpha\\beta}(\\mathbf{x}_1,t_1;\\mathbf{x}_2,t_2) &= -i\\rm{tr}\\left(\\hat{\\rho}\\left\\{\\psi_{\\alpha}(\\mathbf{x}_1,t_1)\\psi_{\\beta}^{\\dagger}(\\mathbf{x}_2,t_2)\\pm \\psi_{\\beta}^{\\dagger}(\\mathbf{x}_2,t_2)\\psi_{\\alpha}(\\mathbf{x}_1,t_1)\\right\\}\\right)\\theta(t_1-t_2) \\tag{3.11} \\\\\n",
    "    G^{A}_{\\alpha\\beta}(\\mathbf{x}_1,t_1;\\mathbf{x}_2,t_2) &= +i\\rm{tr}\\left(\\hat{\\rho}\\left\\{\\psi_{\\alpha}(\\mathbf{x}_1,t_1)\\psi_{\\beta}^{\\dagger}(\\mathbf{x}_2,t_2) \\pm \\psi_{\\beta}^{\\dagger}(\\mathbf{x}_2,t_2)\\psi_{\\alpha}(\\mathbf{x}_1,t_1)\\right\\}\\right)\\theta(t_2-t_1) \\tag{3.12} \\\\\n",
    "\\end{align}"
   ]
  },
  {
   "cell_type": "markdown",
   "metadata": {},
   "source": [
    "これからの計算では, $\\to$ **有限温度の平衡状態**, 統計演算子が**Gibbsの式**であることを仮定する\n",
    "\n",
    "- Gibbsの式\n",
    "    系が大正準集団(grand canonical ensemble,GCE)であるとすれば,\n",
    "    \\begin{align}\n",
    "        \\mathcal{H}_{\\rm GCE} \\ket{s} \\equiv \\left(\\mathcal{H}_{CE}-\\mu\\mathcal{N}\\right)\\ket{s} = \\left(E_s -\\mu N_s\\right)\\ket{s}\n",
    "    \\end{align}\n",
    "    として同時固有ケット$\\{\\ket{s}\\}$を導入することで, 統計演算子をGibbsの式で表せる\n",
    "    \\begin{align}\n",
    "        \\hat{\\rho} &= e^{-\\beta(\\mathcal{H}-\\Omega)}\\\\\n",
    "        &= \\sum_s e^{-\\beta(E_s-\\mu N_s - \\Omega)}\\ket{s}\\bra{s}\\\\\n",
    "        &= \\sum_s \\rho_s\\ket{s}\\bra{s} \\tag{3.13}\n",
    "    \\end{align}\n",
    "    \\begin{align}\n",
    "        &\\Omega : \\text{大正準ポテンシャル, 熱力学ポテンシャル}\\\\\n",
    "        &\\beta \\equiv \\frac{1}{k_B T}\n",
    "    \\end{align}\n",
    "    \n",
    "\n",
    "統計演算子は対角的であることから, 定常的で一様な系では以下のようにできる.\n",
    "\\begin{align}\n",
    "    G_{\\alpha,\\beta}(\\mathbf{x}_{1},t_{1};\\mathbf{x}_{2},t_{2})=\\delta_{\\alpha\\beta}G(\\mathbf{x}_{1},t_{1};\\mathbf{x}_{2},t_{2})\n",
    "\\end{align}"
   ]
  },
  {
   "cell_type": "markdown",
   "metadata": {},
   "source": [
    "## 一般化したKällén-Lehmann表示\n",
    "\n",
    "- 絶対零度での表式(Remind)\n",
    "\n",
    "    絶対零度でのGreen関数は\n",
    "    - 式(2.9)と式(2.11)から\n",
    "        \\begin{align}\n",
    "                G_{\\alpha,\\beta}(\\mathbf{x}_{1},t_{1};\\mathbf{x}_{2},t_{2})=-i\\delta_{\\alpha\\beta}\\frac{\\bra{0}\\mathcal{T}\\psi(\\mathbf{x}_1,t_1)\\psi^\\dagger(\\mathbf{x}_2,t_2)\\ket{0}}{\\braket{0}{0}}\n",
    "        \\end{align}\n",
    "    - $\\mathbf{x}$と$t$をFourier変換して表示される\n",
    "        \\begin{align}\n",
    "            G(\\mathbf{p},\\omega)=(2\\pi)^3\\sum_s\\left(\\frac{A_s\\delta(\\mathbf{p}-\\mathbf{P}_s)}{\\omega-\\epsilon_x^{(+)}+\\mu+i0} \\pm \\frac{B_s\\delta(\\mathbf{p}+\\mathbf{P}_s)}{\\omega-\\epsilon_x^{(-)}+\\mu-i0} \\right) \\tag{2.26}\n",
    "        \\end{align}\n",
    "        \\begin{align}\n",
    "            A_s &\\equiv \\left[\\frac{1}{2}\\right]\\braket{0}{0}^{-1}\\left[\\sum_\\alpha \\right] \\left|\\bra{0}\\psi_\\alpha\\ket{s}\\right|^2 \\tag{2.24}\\\\\n",
    "            B_s &\\equiv \\left[\\frac{1}{2}\\right]\\braket{0}{0}^{-1}\\left[\\sum_\\alpha \\right] \\left|\\bra{s}\\psi_\\alpha\\ket{0}\\right|^2 \\tag{2.25}\n",
    "        \\end{align}\n",
    "        ※ 係数にある$1/2$はスピンの自由度によるものであり,$\\alpha$はスピン自由度\n",
    "        \n",
    "        \n",
    "- 有限温度での表示 [(計算ノート)](pdf/reference.pdf)\n",
    "\n",
    "    絶対零度とは異なり, *すべての励起状態を考慮しなければならない*\n",
    "    \\begin{align}\n",
    "        G(\\mathbf{p},\\omega)=\\left[\\frac{1}{2}\\right](2\\pi)^3\\sum_m \\sum_n \\rho_n A_{mn}\\delta(\\mathbf{p}-\\mathbf{P}_{mn})\\left\\{\\frac{1}{\\omega-\\omega_{mn}+i0}\\pm\\frac{e^{-\\beta\\omega_{mn}}}{\\omega-\\omega_{mn}-i0}\\right\\} \\tag{3.14}\n",
    "    \\end{align}\n",
    "    ここで, それぞれの値は以下のように定義される.\n",
    "    \\begin{align}\n",
    "        A_{mn} &= \\left[\\sum_\\alpha\\right]\\left|\\bra{n}\\psi_\\alpha\\ket{m}\\right|^2 \\tag{3.15} \\\\\n",
    "        \\omega_{mn} &= (E_m-\\mu N_m) - (E_n-\\mu N_n) \\tag{3.16}\n",
    "    \\end{align}\n",
    "    \n",
    "    以降は, 絶対零度の時に行った議論と全く同様である.\n",
    "    \n",
    "    Weierstrassの公式($\\frac{1}{x\\pm i0}= \\mathcal{P}\\frac{1}{x}\\mp i\\pi\\delta(x)$)を用いれば\n",
    "    \\begin{align}\n",
    "        {\\rm Re} G(\\mathbf{p},\\omega) &= (2\\pi)^3\\left[\\frac{1}{2}\\right]\\mathcal{P}\\sum_m \\sum_n \\rho_n A_{mn}\\delta(\\mathbf{p}-\\mathbf{P}_{mn})(1\\pm e^{-\\beta\\omega_{mn}})\\frac{1}{\\omega-\\omega_{mn}} \\tag{3.17}\\\\\n",
    "        {\\rm Im} G(\\mathbf{p},\\omega) &= -\\pi(2\\pi)^3\\left[\\frac{1}{2}\\right]\\sum_m \\sum_n \\rho_n A_{mn}\\delta(\\mathbf{p}-\\mathbf{P}_{mn})(1\\mp e^{-\\beta\\omega_{mn}})\\delta(\\omega-\\omega_{mn}) \\tag{3.18}\\\\\n",
    "    \\end{align}\n",
    "    \n",
    "    retarded, advanced Green関数のときは, \n",
    "    \\begin{align}\n",
    "        G^{R}(\\mathbf{p},\\omega)=\\left[\\frac{1}{2}\\right](2\\pi)^3\\sum_m \\sum_n \\rho_n A_{mn}\\delta(\\mathbf{p}-\\mathbf{P}_{mn})\\left\\{\\frac{1\\pm e^{-\\beta\\omega_{mn}}}{\\omega-\\omega_{mn}+i0}\\right\\} \\tag{3.19}\\\\\n",
    "        G^{A}(\\mathbf{p},\\omega)=\\left[\\frac{1}{2}\\right](2\\pi)^3\\sum_m \\sum_n \\rho_n A_{mn}\\delta(\\mathbf{p}-\\mathbf{P}_{mn})\\left\\{\\frac{1\\pm e^{-\\beta\\omega_{mn}}}{\\omega-\\omega_{mn}-i0}\\right\\} \\tag{3.20}\\\\\n",
    "    \\end{align}\n",
    "    \n",
    "    causal Green関数と, retarded$\\cdot$advanced Green関数には次のような便利な関係式がある.\n",
    "    \\begin{align}\n",
    "        G^{R,A}(p,\\omega) = {\\rm Re}G(p,\\omega)+\n",
    "        \\begin{cases}\n",
    "            \\pm i\\coth \\frac{\\beta\\omega}{2}{\\rm Im}G(p,\\omega) &\\text{Fermi統計}\\\\\n",
    "            \\pm i\\tanh \\frac{\\beta\\omega}{2}{\\rm Im}G(p,\\omega) &\\text{Bose統計}\n",
    "        \\end{cases}\n",
    "    \\end{align}\n",
    "    \n",
    "    retarted$\\cdot$advanced Green関数を用いることで, 準粒子励起を記述することができる.\n",
    "    \n",
    "    $\\uparrow$ 温度Green関数 $\\to$ causal Green関数 $\\to$ retarded Green関数　とステップを踏むことで, システマチックに導出ができる"
   ]
  },
  {
   "cell_type": "markdown",
   "metadata": {},
   "source": [
    "## スペクトル密度の和測\n",
    "\n",
    "準粒子のスペクトル密度$\\Gamma(p,\\omega)$というものを定義する\n",
    "\\begin{align}\n",
    "    \\Gamma(p,\\omega) = (2\\pi)^4\\left[\\frac{1}{2}\\right] \\sum_m \\sum_n \\rho_n A_{mn}(1\\pm e^{-\\beta\\omega_{mn}}\\delta(p-P_{mn})\\delta(\\omega-\\omega_{mn}) \\tag{3.28}\n",
    "\\end{align}\n",
    "$\\to$ 運動量$p$の準粒子がエネルギー$\\omega$を持つ確率を表している.\n",
    "\n",
    "\n",
    "この式は, retarded Green関数と次のような関係式が成立している.\n",
    "\\begin{align}\n",
    "    -\\frac{1}{2}\\Gamma(p,\\omega) = {\\rm Im}G^{R}(p,\\omega) \\tag{3.26'}\n",
    "\\end{align}\n",
    "\n",
    "この値は確率として定義されるべき(?)であるので, *全エネルギー空間での積分を行った際には確実に粒子が存在していてほしい*という条件\n",
    "\\begin{align}\n",
    "    \\int\\frac{d\\omega}{2\\pi} \\Gamma(p,\\omega) = 1\n",
    "\\end{align}\n",
    "が成立しているはずである(和測$\\cdot$積分測という)"
   ]
  },
  {
   "cell_type": "markdown",
   "metadata": {},
   "source": [
    "## 非摂動Green関数\n",
    "\n",
    "非摂動 : 絶対零度?\n"
   ]
  },
  {
   "cell_type": "markdown",
   "metadata": {},
   "source": [
    "## Fermi/Bose 粒子系の粒子密度\n",
    "\n",
    "粒子の生成消滅演算子を用いれば, 粒子密度は次のように表すことができる.\n",
    "\\begin{align}\n",
    "    n_p = \\left[\\frac{1}{2}\\sum_{\\alpha} \\right]\\left<c_{p,\\alpha}^{\\dagger}c_{p,\\alpha}\\right> \n",
    "\\end{align}\n",
    "ただし, $\\alpha$はスピンの成分である.\n",
    "\n"
   ]
  },
  {
   "cell_type": "code",
   "execution_count": null,
   "metadata": {},
   "outputs": [],
   "source": []
  }
 ],
 "metadata": {
  "kernelspec": {
   "display_name": "Python 3",
   "language": "python",
   "name": "python3"
  },
  "language_info": {
   "codemirror_mode": {
    "name": "ipython",
    "version": 3
   },
   "file_extension": ".py",
   "mimetype": "text/x-python",
   "name": "python",
   "nbconvert_exporter": "python",
   "pygments_lexer": "ipython3",
   "version": "3.6.7"
  }
 },
 "nbformat": 4,
 "nbformat_minor": 2
}
